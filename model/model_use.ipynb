{
 "cells": [
  {
   "cell_type": "code",
   "execution_count": 1,
   "metadata": {},
   "outputs": [],
   "source": [
    "import pickle\n",
    "import pandas as pd\n",
    "from sklearn.preprocessing import MinMaxScaler"
   ]
  },
  {
   "cell_type": "code",
   "execution_count": 2,
   "metadata": {},
   "outputs": [],
   "source": [
    "model = pickle.load(open('./model.pkl', 'rb'))"
   ]
  },
  {
   "cell_type": "code",
   "execution_count": 4,
   "metadata": {},
   "outputs": [],
   "source": [
    "# the input data should be onehot encoded and scaled\n",
    "test_sample = {\n",
    "    'Dependents': 1,\n",
    "    'ApplicantIncome': 5000,\n",
    "    'CoapplicantIncome': 2500,\n",
    "    'LoanAmount': 100000,\n",
    "    'Loan_Amount_Term': 360,\n",
    "    'Credit_History': 1,\n",
    "    'Gender_Female':0,\n",
    "    'Gender_Male':1,\n",
    "    'Married_No':1,\n",
    "    'Married_Yes':0,\n",
    "    'Education_Graduate':1,\n",
    "    'Education_Not Graduate':0,\n",
    "    'Self_Employed_No':1,\n",
    "    'Self_Employed_Yes':0,\n",
    "    'Property_Area_Rural':0,\n",
    "    'Property_Area_Semiurban':1,\n",
    "    'Property_Area_Urban':0\n",
    "}"
   ]
  }
 ],
 "metadata": {
  "kernelspec": {
   "display_name": "Python 3",
   "language": "python",
   "name": "python3"
  },
  "language_info": {
   "codemirror_mode": {
    "name": "ipython",
    "version": 3
   },
   "file_extension": ".py",
   "mimetype": "text/x-python",
   "name": "python",
   "nbconvert_exporter": "python",
   "pygments_lexer": "ipython3",
   "version": "3.11.4"
  },
  "orig_nbformat": 4
 },
 "nbformat": 4,
 "nbformat_minor": 2
}
